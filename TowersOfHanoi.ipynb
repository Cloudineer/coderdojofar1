{
 "cells": [
  {
   "cell_type": "markdown",
   "metadata": {},
   "source": [
    "# Tower of Hanoi using Recursion\n",
    "### Based on Can YOU DO RECURSION? Towers of Hanoi: SOLVED in PYTHON. COMPLETE EXPLANATION.\n",
    "### https://www.youtube.com/watch?v=buWXDMbY3Ww\n",
    "Which itself is based on https://en.wikipedia.org/wiki/Tower_of_Hanoi \n",
    "\n",
    "I have added code to put the name of the pile as the first entry in each list and extra print statements, so you can see the process and steps involved."
   ]
  },
  {
   "cell_type": "code",
   "execution_count": 10,
   "metadata": {},
   "outputs": [
    {
     "name": "stdout",
     "output_type": "stream",
     "text": [
      "hanoi(5,A,B,C)\n",
      "hanoi(4,A,C,B)\n",
      "hanoi(3,A,B,C)\n",
      "hanoi(2,A,C,B)\n",
      "hanoi(1,A,B,C)\n",
      "Move 1 from A to B\n",
      "Move 2 from A to C\n",
      "hanoi(1,B,C,A)\n",
      "Move 1 from B to C\n",
      "Move 3 from A to B\n",
      "hanoi(2,C,B,A)\n",
      "hanoi(1,C,A,B)\n",
      "Move 1 from C to A\n",
      "Move 2 from C to B\n",
      "hanoi(1,A,B,C)\n",
      "Move 1 from A to B\n",
      "Move 4 from A to C\n",
      "hanoi(3,B,C,A)\n",
      "hanoi(2,B,A,C)\n",
      "hanoi(1,B,C,A)\n",
      "Move 1 from B to C\n",
      "Move 2 from B to A\n",
      "hanoi(1,C,A,B)\n",
      "Move 1 from C to A\n",
      "Move 3 from B to C\n",
      "hanoi(2,A,C,B)\n",
      "hanoi(1,A,B,C)\n",
      "Move 1 from A to B\n",
      "Move 2 from A to C\n",
      "hanoi(1,B,C,A)\n",
      "Move 1 from B to C\n",
      "Move 5 from A to B\n",
      "hanoi(4,C,B,A)\n",
      "hanoi(3,C,A,B)\n",
      "hanoi(2,C,B,A)\n",
      "hanoi(1,C,A,B)\n",
      "Move 1 from C to A\n",
      "Move 2 from C to B\n",
      "hanoi(1,A,B,C)\n",
      "Move 1 from A to B\n",
      "Move 3 from C to A\n",
      "hanoi(2,B,A,C)\n",
      "hanoi(1,B,C,A)\n",
      "Move 1 from B to C\n",
      "Move 2 from B to A\n",
      "hanoi(1,C,A,B)\n",
      "Move 1 from C to A\n",
      "Move 4 from C to B\n",
      "hanoi(3,A,B,C)\n",
      "hanoi(2,A,C,B)\n",
      "hanoi(1,A,B,C)\n",
      "Move 1 from A to B\n",
      "Move 2 from A to C\n",
      "hanoi(1,B,C,A)\n",
      "Move 1 from B to C\n",
      "Move 3 from A to B\n",
      "hanoi(2,C,B,A)\n",
      "hanoi(1,C,A,B)\n",
      "Move 1 from C to A\n",
      "Move 2 from C to B\n",
      "hanoi(1,A,B,C)\n",
      "Move 1 from A to B\n",
      "Moving a tower of 5 took 31 moves\n",
      "[31]\n"
     ]
    }
   ],
   "source": [
    "def hanoi(n, source, target, spare):\n",
    "    global count\n",
    "    if n>0:\n",
    "        print(\"hanoi({},{},{},{})\".format(n, source[0], target[0], spare[0]))\n",
    "        hanoi(n-1, source, spare, target)\n",
    "        top_disk = source.pop()\n",
    "        target.append(top_disk)\n",
    "        print(\"Move {} from {} to {}\".format(top_disk, source[0], target[0]))\n",
    "        count += 1\n",
    "        hanoi(n-1, spare, target, source)\n",
    "\n",
    "num_moves = []\n",
    "for x in [5]: # You can make this a \n",
    "    A = ['A']\n",
    "    A.extend(range(x,0,-1))\n",
    "    B = ['B']\n",
    "    C = ['C']\n",
    "    count = 0\n",
    "    hanoi(x, A, B, C)\n",
    "    print(\"Moving a tower of {} took {} moves\".format(x, count))\n",
    "    num_moves.append(count)\n",
    "print(num_moves)"
   ]
  }
 ],
 "metadata": {
  "kernelspec": {
   "display_name": "Python 3",
   "language": "python",
   "name": "python3"
  },
  "language_info": {
   "codemirror_mode": {
    "name": "ipython",
    "version": 3
   },
   "file_extension": ".py",
   "mimetype": "text/x-python",
   "name": "python",
   "nbconvert_exporter": "python",
   "pygments_lexer": "ipython3",
   "version": "3.7.5"
  }
 },
 "nbformat": 4,
 "nbformat_minor": 2
}
